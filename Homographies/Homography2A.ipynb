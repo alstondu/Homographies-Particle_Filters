{
 "cells": [
  {
   "cell_type": "markdown",
   "metadata": {},
   "source": [
    "# Homography - Part 2A\n",
    "Part 2A explores the geometry of a single camera. In 2B the goal is to use a set of correspondance points to estimate a transformation matrix from a plane's 3D space to camera space and use that matrix to project some other points into camera space.\n",
    "\n",
    "Two components that we need for 2B are built, a method to estimate that transformation and a method that can project points into camera image space.\n",
    "\n",
    "First, the projection method, `projectiveCamera` to find the image space coordinates, `XImCart`, of a set of 3D world coordinates, `XCart`, given a camera intrinsics matrix `K` and an extrinsics matrix `T`.\n",
    "\n",
    "The second component is a method to estimate a Eucledian transformation, `TEst`, that translates from a plane's 3D coordinate space to 3D camera space by utilizing a given set of points in camera image space, `XImCart`, and a set of corresponding points in world space, `XCart`.\n",
    "\n",
    "Estimating the camera pose will involve calculating a homography, functions from part 1A/1B are used."
   ]
  },
  {
   "cell_type": "markdown",
   "metadata": {},
   "source": [
    "## Import libraries "
   ]
  },
  {
   "cell_type": "code",
   "execution_count": 1,
   "metadata": {},
   "outputs": [],
   "source": [
    "%matplotlib inline\n",
    "import os \n",
    "import numpy as np\n",
    "import matplotlib.pyplot as plt\n",
    "import scipy.io as sio"
   ]
  },
  {
   "cell_type": "code",
   "execution_count": 2,
   "metadata": {},
   "outputs": [],
   "source": [
    "def projectiveCamera(K,T,XCart):\n",
    "    # The goal of this function is to project points in XCart through projective camera\n",
    "    # defined by intrinsic matrix K and extrinsic matrix T. In essence, this function takes a set of points \n",
    "    # in 3D world space, XCart, and projects them into camera image space by applying the extrinsic matrix T \n",
    "    # and then applying the intrinsic matrix K.\n",
    "    # \n",
    "    # There are three steps.\n",
    "    # 1) Move from world space to camera space. \n",
    "    #            camera space points = extrinsics T * world space points \n",
    "    #\n",
    "    # 2) Applying the intrinsics matrix to the camera space points after normalizing\n",
    "    #           homogeneous image space points = K * normalized camera space points\n",
    "    # \n",
    "    # 3) Move to image space cartesian points from image space homogeneous points, involves a \n",
    "    # normalization using the third row.\n",
    "    \n",
    "    XImCart = []\n",
    "\n",
    "    # Convert Cartesian 3d points XCart to homogeneous coordinates XHom\n",
    "    XHom = np.concatenate((XCart, np.ones((1,XCart.shape[1]))), axis=0)\n",
    "\n",
    "    # Apply extrinsic matrix to XHom, to move to frame of reference of camera\n",
    "    xCamHom = T @ XHom\n",
    "\n",
    "    # Project points into normalized camera coordinates xCamHom (remove 4th row)\n",
    "    xCamHom = np.delete(xCamHom, 3, 0)\n",
    "\n",
    "    # Move points to image coordinates xImHom by applying intrinsic matrix\n",
    "    XImHom = K @ xCamHom\n",
    "\n",
    "    # Convert points back to Cartesian coordinates xImCart\n",
    "    XImCart = XImHom[0:2,:]/np.tile([XImHom[2,:]],(2,1))\n",
    "    \n",
    "    return XImCart\n"
   ]
  },
  {
   "cell_type": "markdown",
   "metadata": {},
   "source": [
    "## Camera Projection\n",
    "\n",
    "The function that transform from 3D world space, `XCart`, to camera image space, `XImCart`, using an extrinsics matrix `T` and an intrinsics matrix `K` that are provided. The previous block houses this function.\n",
    "\n",
    "The result here is the cartesian image space point coordinates, `XImCart`, of the 3D points `XCart`. If `XCart` represents a box in the world then we now know where the box's vertices would land in image space."
   ]
  },
  {
   "cell_type": "code",
   "execution_count": 3,
   "metadata": {},
   "outputs": [],
   "source": [
    "# Assume the camera intrinsics matrix K is known and has values:\n",
    "K = np.array([[640, 0, 320],\n",
    "             [0, 640, 240],\n",
    "             [0, 0, 1]])\n",
    "\n",
    "# Assume an object co-ordinate system with the Z-axis pointing upwards and the origin\n",
    "# in the centre of the plane. There are five known points on the plane with coordinates (mm):\n",
    "XCart = np.array([[-100, -100,  100,  100, 0],\n",
    "                  [-100,  100,  100, -100, 0],\n",
    "                  [   0,    0,    0,    0, 0]])\n",
    "\n",
    "# Assume the correct transformation from the plane co-ordinate system to the\n",
    "# camera co-ordinate system (extrinsic matrix) is:\n",
    "T = np.array([[0.9851,  -0.0492,  0.1619,  46.00],\n",
    "             [-0.1623,  -0.5520,  0.8181,  70.00],\n",
    "             [0.0490,  -0.8324, -0.5518,  500.89],\n",
    "             [0,        0,       0,       1]])\n",
    "# T houses a rotation matrix and a translation matrix. The last row is for homogeneous point calculation.\n",
    "\n",
    "\n",
    "# Use the general pin-hole projective camera model to estimate \n",
    "# where the four points on the plane will appear in the image.\n",
    "XImCart = projectiveCamera(K,T,XCart)"
   ]
  },
  {
   "cell_type": "markdown",
   "metadata": {},
   "source": [
    "### Functions copied form 1A and 1B"
   ]
  },
  {
   "cell_type": "code",
   "execution_count": 4,
   "metadata": {},
   "outputs": [],
   "source": [
    "def solveAXEqualsZero(A):\n",
    "    # Using SVD to solve Ah = 0.\n",
    "    U,L,V_T = np.linalg.svd(A)  # Compute SVD\n",
    "    h = V_T.T[:,-1]  # Get the last column of V\n",
    "    return h"
   ]
  },
  {
   "cell_type": "code",
   "execution_count": 5,
   "metadata": {},
   "outputs": [],
   "source": [
    "def calcBestHomography(pts1Cart, pts2Cart):\n",
    "    \n",
    "    # This function apply the direct linear transform (DLT) algorithm to calculate the best \n",
    "    # homography that maps the cartesian points in pts1Cart to their corresonding matching cartesian poitns \n",
    "    # in pts2Cart.\n",
    "    \n",
    "    # This function calls solveAXEqualsZero.\n",
    "\n",
    "    n_points = pts1Cart.shape[1]  # 5\n",
    "    \n",
    "    H = np.identity(3)\n",
    "\n",
    "    # First convert points into homogeneous representation.\n",
    "    pts1Hom = np.concatenate((pts1Cart, np.ones((1,pts1Cart.shape[1]))), axis=0)\n",
    "    pts2Hom = np.concatenate((pts2Cart, np.ones((1,pts2Cart.shape[1]))), axis=0)\n",
    "    # Then construct the matrix A, size (n_points * 2, 9)\n",
    "    A = np.zeros((n_points * 2, 9))\n",
    "    # Extract u, v, x, and y\n",
    "    u = pts2Hom[0, :]\n",
    "    v = pts2Hom[1, :]\n",
    "    x = pts1Hom[0, :]\n",
    "    y = pts1Hom[1, :]\n",
    "\n",
    "    # Construct the matrix A\n",
    "    for i in range(n_points):\n",
    "        A[2*i,:]= [0,0,0,-u[i],-v[i],-1,y[i]*u[i],y[i]*v[i],y[i]]       \n",
    "        A[2*i+1,:]= [u[i],v[i],1,0,0,0,-x[i]*u[i],-x[i]*v[i],-x[i]]\n",
    "\n",
    "    # Solve Ah = 0 using solveAXEqualsZero and get h.\n",
    "    h = solveAXEqualsZero(A)\n",
    "\n",
    "    # Reshape h into the matrix H, values of h go first into rows of H\n",
    "    H = h.reshape(H.shape)\n",
    "    return H"
   ]
  },
  {
   "cell_type": "code",
   "execution_count": 6,
   "metadata": {},
   "outputs": [],
   "source": [
    "def estimatePlanePose(XImCart,XCart,K):\n",
    "    # The goal of this function is to estimate the pose of a plane relative to camera (extrinsic matrix)\n",
    "    # given points in image space xImCart, points in 3D world space XCart, and an intrinsics matrix K.\n",
    "    \n",
    "    T = []\n",
    "\n",
    "    # Convert Cartesian image points XImCart to homogeneous representation XImHom\n",
    "    XImHom = np.concatenate((XImCart, np.ones((1,XImCart.shape[1]))), axis=0)\n",
    "    \n",
    "    # Convert image co-ordinates XImHom to normalized camera coordinates XCamHom    \n",
    "    XCamHom = np.linalg.inv(K) @ XImHom\n",
    "    \n",
    "    # Estimate homography H mapping homogeneous (x,y) coordinates of positions\n",
    "    # in real world to XCamHom (convert XCamHom to Cartesian, calculate the homography) -\n",
    "    XCamCart = XCamHom[0:2,:]/np.tile([XCamHom[2,:]],(2,1))\n",
    "    H = calcBestHomography(XCamCart, XCart) \n",
    "     \n",
    "    # Estimate first two columns of rotation matrix R from the first two\n",
    "    # columns of H using the SVD.\n",
    "    R = np.zeros((3, 3)) \n",
    "    U,L,V_T = np.linalg.svd(H[:,0:2]) \n",
    "    R[:,:2] = U @ np.array([[1,0],[0,1],[0,0]]) @ V_T\n",
    "\n",
    "    # Estimate the third column of the rotation matrix by taking the cross\n",
    "    # product of the first two columns\n",
    "    R[:,2] = np.cross(R[:,0],R[:,1])\n",
    "        \n",
    "    # TO DO: Check that the determinant of the rotation matrix is positive - if\n",
    "    # not then multiply last column by -1.\n",
    "    if not np.linalg.det(R) > 0:\n",
    "        R[:,-1] = -R[:,-1]\n",
    "    \n",
    "    # Estimate the translation t by finding the appropriate scaling factor k\n",
    "    # and applying it to the third colulmn of H\n",
    "    k = np.sum(H[:,:2]/R[:,:2])/6 \n",
    "    t = H[:,2].reshape((3,1))/k\n",
    "    \n",
    "    # Check whether t_z is negative - if it is then multiply t by -1 and\n",
    "    # the first two columns of R by -1.\n",
    "    if t[2] < 0:\n",
    "        t *= -1\n",
    "        R[:,:2] *= -1\n",
    "            \n",
    "    # Assemble transformation into matrix form\n",
    "    T = np.hstack((R,t))\n",
    "    T = np.vstack((T, np.array([0,0,0,1])))\n",
    "    \n",
    "    return T "
   ]
  },
  {
   "cell_type": "markdown",
   "metadata": {},
   "source": [
    "## Estimating an Extrinsics Matrix, T\n",
    "\n",
    "The problem: Given an instrinsics matrix `K`, a set of 3D world points `XCart`, and a set of corresponding image space coordinates in `XImCart`. `K` and `XCart` have already been defined a few cells back and `XImCart` has been calculated by virtue of the exercise completed with camera projection. What is unknown is an extrinsics matrix, `T`, which needs to estimated to fill in `estimatePlanePose` and return `TEst`."
   ]
  },
  {
   "cell_type": "code",
   "execution_count": 7,
   "metadata": {},
   "outputs": [
    {
     "name": "stdout",
     "output_type": "stream",
     "text": [
      "[[ 9.855e-01 -4.985e-02  1.624e-01  4.613e+01]\n",
      " [-1.627e-01 -5.519e-01  8.179e-01  7.014e+01]\n",
      " [ 4.884e-02 -8.324e-01 -5.520e-01  5.021e+02]\n",
      " [ 0.000e+00  0.000e+00  0.000e+00  1.000e+00]]\n",
      "\n",
      "\n",
      "[[ 9.851e-01 -4.920e-02  1.619e-01  4.600e+01]\n",
      " [-1.623e-01 -5.520e-01  8.181e-01  7.000e+01]\n",
      " [ 4.900e-02 -8.324e-01 -5.518e-01  5.009e+02]\n",
      " [ 0.000e+00  0.000e+00  0.000e+00  1.000e+00]]\n"
     ]
    }
   ],
   "source": [
    "# Add noise (standard deviation of one pixel in each direction) to the pixel positions\n",
    "# to simulate having to find these points in a noisy image. Store the results back in xImCart\n",
    "noiseLevel = 0.1\n",
    "XImCartNoisy = XImCart + np.random.normal(0, noiseLevel, XImCart.shape) #add noise here\n",
    "\n",
    "# Estimate the extrinsic matrix \n",
    "TEst = estimatePlanePose(XImCartNoisy,XCart,K)\n",
    "\n",
    "# TEst should closely resemble the groundtruth, T.\n",
    "np.set_printoptions(precision=3)\n",
    "print(TEst)\n",
    "print(\"\\n\")\n",
    "print(T)\n"
   ]
  },
  {
   "cell_type": "markdown",
   "metadata": {},
   "source": [
    "It can be seen that the estimated extrinsics matrix TEst closely resemble the groundtruth T as expected. Small error results from the noise added."
   ]
  }
 ],
 "metadata": {
  "kernelspec": {
   "display_name": "Python 3",
   "language": "python",
   "name": "python3"
  },
  "language_info": {
   "codemirror_mode": {
    "name": "ipython",
    "version": 3
   },
   "file_extension": ".py",
   "mimetype": "text/x-python",
   "name": "python",
   "nbconvert_exporter": "python",
   "pygments_lexer": "ipython3",
   "version": "3.9.18"
  }
 },
 "nbformat": 4,
 "nbformat_minor": 1
}
